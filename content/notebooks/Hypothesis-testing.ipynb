{
 "cells": [
  {
   "cell_type": "markdown",
   "metadata": {},
   "source": [
    "# $t$-Test tested\n",
    "\n",
    "In this post we shall try to run a quick experiment with the intention of convincing ourselves that $t$-test works.\n",
    "We will examine what is the underlaying distribution of many different samples, obtained from many different distributions and with varying sizes."
   ]
  },
  {
   "cell_type": "code",
   "execution_count": 1,
   "metadata": {
    "collapsed": false
   },
   "outputs": [],
   "source": [
    "# Modules used\n",
    "%matplotlib inline\n",
    "import pylab as plt\n",
    "plt.style.use('ggplot')\n",
    "import pandas as pd\n",
    "import numpy as np\n",
    "import scipy.stats as stats"
   ]
  },
  {
   "cell_type": "markdown",
   "metadata": {},
   "source": [
    "## Definitions\n",
    "\n",
    "**Hypothesis:** a statement about a population parameter. A population may be the users' traffic and the parameter may be conversion rate.\n",
    "\n",
    "**Objectives:** given sample taken from the population, decide whether the *null-hypothesis* ($H_0$) holds or not.\n",
    "\n",
    "## Example\n",
    "\n",
    "A classical example is to consider the height of a population.\n",
    "The null-hypothesis, $H_0$ would be that the the mean of heights is some $x_0$ and the alternative is that the mean is greater than $x_0$.\n",
    "Ideally, we should measure the height of all members of the population, but this is going to be tricky.\n",
    "Therefore, we take a sample from the population and measure the heights.\n",
    "It is at this point that we want to check whether the average height of the sample suggests that $H_0$ holds or not.\n",
    "\n",
    "In the following, we will simplify the example, and consider numbers obtained from a distribution."
   ]
  },
  {
   "cell_type": "markdown",
   "metadata": {},
   "source": [
    "## Fixed hypothesis on varying populations\n",
    "\n",
    "In this experiment we fix $H_0=0$ and we apply the $t$-test on various samples obtained from different normal distributions.\n",
    "We start with a fixed STD for the distribution and varying means:"
   ]
  },
  {
   "cell_type": "code",
   "execution_count": 2,
   "metadata": {
    "collapsed": false
   },
   "outputs": [],
   "source": [
    "dx = 0.5\n",
    "means = np.arange(-10,10+dx,dx)\n",
    "sizes = [10, 50, 100, 500, 1000]\n",
    "STD=7"
   ]
  },
  {
   "cell_type": "markdown",
   "metadata": {},
   "source": [
    "Next, for each size $n$ and mean $\\mu$, we generate a sample of size $n$ with mean $\\mu$.\n",
    "Recall, the STD is fixed."
   ]
  },
  {
   "cell_type": "code",
   "execution_count": 3,
   "metadata": {
    "collapsed": false
   },
   "outputs": [],
   "source": [
    "np.random.seed(10)\n",
    "samples = pd.DataFrame()\n",
    "for size in sizes:\n",
    "    # For a fixed size, genearte list of samples, one sample for each mean\n",
    "    fixed_size_samples = [pd.Series(np.random.normal(loc=mean, scale=STD, size=size)) for mean in means]\n",
    "    samples[str(size)] = fixed_size_samples\n",
    "samples.index=means"
   ]
  },
  {
   "cell_type": "markdown",
   "metadata": {},
   "source": [
    "This generates a matrix each row has samples with the same mean and each column has samples with the same size.\n",
    "Here are the first 3 rows:"
   ]
  },
  {
   "cell_type": "code",
   "execution_count": 4,
   "metadata": {
    "collapsed": false
   },
   "outputs": [
    {
     "data": {
      "text/html": [
       "<div>\n",
       "<table border=\"1\" class=\"dataframe\">\n",
       "  <thead>\n",
       "    <tr style=\"text-align: right;\">\n",
       "      <th></th>\n",
       "      <th>10</th>\n",
       "      <th>50</th>\n",
       "      <th>100</th>\n",
       "      <th>500</th>\n",
       "      <th>1000</th>\n",
       "    </tr>\n",
       "  </thead>\n",
       "  <tbody>\n",
       "    <tr>\n",
       "      <th>-10.0</th>\n",
       "      <td>0    -0.678894\n",
       "1    -4.993047\n",
       "2   -20.817802\n",
       "3...</td>\n",
       "      <td>0    -10.524642\n",
       "1    -13.652435\n",
       "2    -32.43080...</td>\n",
       "      <td>0    -27.265446\n",
       "1    -10.563823\n",
       "2    -10.58446...</td>\n",
       "      <td>0     -17.646876\n",
       "1     -10.160807\n",
       "2      -4.52...</td>\n",
       "      <td>0      -9.663611\n",
       "1     -10.465285\n",
       "2      -3.37...</td>\n",
       "    </tr>\n",
       "    <tr>\n",
       "      <th>-9.5</th>\n",
       "      <td>0    -6.468817\n",
       "1    -1.078738\n",
       "2   -16.255460\n",
       "3...</td>\n",
       "      <td>0    -12.364884\n",
       "1    -11.232327\n",
       "2      1.19495...</td>\n",
       "      <td>0    -10.726570\n",
       "1     -3.088564\n",
       "2    -12.73566...</td>\n",
       "      <td>0      -4.085391\n",
       "1     -11.314494\n",
       "2     -14.69...</td>\n",
       "      <td>0     -19.126446\n",
       "1     -17.442095\n",
       "2     -16.99...</td>\n",
       "    </tr>\n",
       "    <tr>\n",
       "      <th>-9.0</th>\n",
       "      <td>0   -22.844098\n",
       "1   -21.203606\n",
       "2    -7.137509\n",
       "3...</td>\n",
       "      <td>0    -11.256544\n",
       "1    -13.660360\n",
       "2    -13.93234...</td>\n",
       "      <td>0    -18.278745\n",
       "1     -2.092716\n",
       "2     -8.75227...</td>\n",
       "      <td>0     -14.869709\n",
       "1      -3.125514\n",
       "2     -12.06...</td>\n",
       "      <td>0       3.461343\n",
       "1     -16.252981\n",
       "2      -3.80...</td>\n",
       "    </tr>\n",
       "  </tbody>\n",
       "</table>\n",
       "</div>"
      ],
      "text/plain": [
       "                                                      10  \\\n",
       "-10.0  0    -0.678894\n",
       "1    -4.993047\n",
       "2   -20.817802\n",
       "3...   \n",
       "-9.5   0    -6.468817\n",
       "1    -1.078738\n",
       "2   -16.255460\n",
       "3...   \n",
       "-9.0   0   -22.844098\n",
       "1   -21.203606\n",
       "2    -7.137509\n",
       "3...   \n",
       "\n",
       "                                                      50  \\\n",
       "-10.0  0    -10.524642\n",
       "1    -13.652435\n",
       "2    -32.43080...   \n",
       "-9.5   0    -12.364884\n",
       "1    -11.232327\n",
       "2      1.19495...   \n",
       "-9.0   0    -11.256544\n",
       "1    -13.660360\n",
       "2    -13.93234...   \n",
       "\n",
       "                                                     100  \\\n",
       "-10.0  0    -27.265446\n",
       "1    -10.563823\n",
       "2    -10.58446...   \n",
       "-9.5   0    -10.726570\n",
       "1     -3.088564\n",
       "2    -12.73566...   \n",
       "-9.0   0    -18.278745\n",
       "1     -2.092716\n",
       "2     -8.75227...   \n",
       "\n",
       "                                                     500  \\\n",
       "-10.0  0     -17.646876\n",
       "1     -10.160807\n",
       "2      -4.52...   \n",
       "-9.5   0      -4.085391\n",
       "1     -11.314494\n",
       "2     -14.69...   \n",
       "-9.0   0     -14.869709\n",
       "1      -3.125514\n",
       "2     -12.06...   \n",
       "\n",
       "                                                    1000  \n",
       "-10.0  0      -9.663611\n",
       "1     -10.465285\n",
       "2      -3.37...  \n",
       "-9.5   0     -19.126446\n",
       "1     -17.442095\n",
       "2     -16.99...  \n",
       "-9.0   0       3.461343\n",
       "1     -16.252981\n",
       "2      -3.80...  "
      ]
     },
     "execution_count": 4,
     "metadata": {},
     "output_type": "execute_result"
    }
   ],
   "source": [
    "samples[:-9] # Note that the index is the mean used!"
   ]
  },
  {
   "cell_type": "markdown",
   "metadata": {},
   "source": [
    "Following is the histogram of the sample that has $500$ samples with mean $\\mu = -8$"
   ]
  },
  {
   "cell_type": "code",
   "execution_count": 5,
   "metadata": {
    "collapsed": false
   },
   "outputs": [
    {
     "data": {
      "image/png": "[encoded data removed]",
      "text/plain": [
       "<matplotlib.figure.Figure at 0x10de3eac8>"
      ]
     },
     "metadata": {},
     "output_type": "display_data"
    }
   ],
   "source": [
    "samples['500'][-8].hist();"
   ]
  },
  {
   "cell_type": "markdown",
   "metadata": {},
   "source": [
    "It is natural to assume, based on the visual observation, that the sample was obtained from a normal distribution with mean between $-10$ and $-5$.\n",
    "Which is indeed the case, the mean was $-8$.\n",
    "\n",
    "Next, we will iterate over all the samples, and run a $t$-test against a fixed $H_0 = 0$."
   ]
  },
  {
   "cell_type": "code",
   "execution_count": 6,
   "metadata": {
    "collapsed": false
   },
   "outputs": [
    {
     "data": {
      "text/html": [
       "<div>\n",
       "<table border=\"1\" class=\"dataframe\">\n",
       "  <thead>\n",
       "    <tr style=\"text-align: right;\">\n",
       "      <th></th>\n",
       "      <th>10</th>\n",
       "      <th>50</th>\n",
       "      <th>100</th>\n",
       "      <th>500</th>\n",
       "      <th>1000</th>\n",
       "    </tr>\n",
       "  </thead>\n",
       "  <tbody>\n",
       "    <tr>\n",
       "      <th>-10.0</th>\n",
       "      <td>0.000400</td>\n",
       "      <td>2.829029e-15</td>\n",
       "      <td>5.981424e-24</td>\n",
       "      <td>1.331176e-120</td>\n",
       "      <td>1.066282e-238</td>\n",
       "    </tr>\n",
       "    <tr>\n",
       "      <th>-9.5</th>\n",
       "      <td>0.003627</td>\n",
       "      <td>4.864909e-13</td>\n",
       "      <td>1.241612e-25</td>\n",
       "      <td>1.004769e-114</td>\n",
       "      <td>5.229695e-228</td>\n",
       "    </tr>\n",
       "    <tr>\n",
       "      <th>-9.0</th>\n",
       "      <td>0.066964</td>\n",
       "      <td>3.781487e-20</td>\n",
       "      <td>1.394775e-23</td>\n",
       "      <td>6.669121e-101</td>\n",
       "      <td>2.778635e-211</td>\n",
       "    </tr>\n",
       "  </tbody>\n",
       "</table>\n",
       "</div>"
      ],
      "text/plain": [
       "             10            50           100            500           1000\n",
       "-10.0  0.000400  2.829029e-15  5.981424e-24  1.331176e-120  1.066282e-238\n",
       "-9.5   0.003627  4.864909e-13  1.241612e-25  1.004769e-114  5.229695e-228\n",
       "-9.0   0.066964  3.781487e-20  1.394775e-23  6.669121e-101  2.778635e-211"
      ]
     },
     "execution_count": 6,
     "metadata": {},
     "output_type": "execute_result"
    }
   ],
   "source": [
    "p_vals = samples.applymap(lambda x: stats.ttest_1samp(x, 0)[1])\n",
    "p_vals[:-9]"
   ]
  },
  {
   "cell_type": "markdown",
   "metadata": {},
   "source": [
    "In the above table, each cell contains the $p$-value of the $t$-test of the corresponding sample against the fixed null-hypothesis $H_0 = 0$.\n",
    "\n",
    "**What is the $p$-values?**\n",
    "\n",
    "The $p$-value is the probability of observing the result under the assumption of $H_0$.\n",
    "Recall, that a well accepted threshold for null-hypothesis rejection is $\\alpha = 0.05$.\n",
    "In other words, if the $p$-value is smaller than $\\alpha$, we reject the null-hypothesis.\n",
    "In the next step we mark with $1$ (i.e. accepted) the cases where the $p$-value was greater than $\\alpha$ and with $0$ otherwise (i.e. rejected).\n",
    "\n",
    "More intuitively, if the label is $0$, we can claim that mean of the distribution from which the sample was taken is *not* $0$."
   ]
  },
  {
   "cell_type": "code",
   "execution_count": 7,
   "metadata": {
    "collapsed": false
   },
   "outputs": [
    {
     "data": {
      "text/html": [
       "<div>\n",
       "<table border=\"1\" class=\"dataframe\">\n",
       "  <thead>\n",
       "    <tr style=\"text-align: right;\">\n",
       "      <th></th>\n",
       "      <th>10</th>\n",
       "      <th>50</th>\n",
       "      <th>100</th>\n",
       "      <th>500</th>\n",
       "      <th>1000</th>\n",
       "    </tr>\n",
       "  </thead>\n",
       "  <tbody>\n",
       "    <tr>\n",
       "      <th>-10.0</th>\n",
       "      <td>0</td>\n",
       "      <td>0</td>\n",
       "      <td>0</td>\n",
       "      <td>0</td>\n",
       "      <td>0</td>\n",
       "    </tr>\n",
       "    <tr>\n",
       "      <th>-9.5</th>\n",
       "      <td>0</td>\n",
       "      <td>0</td>\n",
       "      <td>0</td>\n",
       "      <td>0</td>\n",
       "      <td>0</td>\n",
       "    </tr>\n",
       "    <tr>\n",
       "      <th>-9.0</th>\n",
       "      <td>1</td>\n",
       "      <td>0</td>\n",
       "      <td>0</td>\n",
       "      <td>0</td>\n",
       "      <td>0</td>\n",
       "    </tr>\n",
       "  </tbody>\n",
       "</table>\n",
       "</div>"
      ],
      "text/plain": [
       "       10  50  100  500  1000\n",
       "-10.0   0   0    0    0     0\n",
       "-9.5    0   0    0    0     0\n",
       "-9.0    1   0    0    0     0"
      ]
     },
     "execution_count": 7,
     "metadata": {},
     "output_type": "execute_result"
    }
   ],
   "source": [
    "accepted = p_vals.applymap(lambda p_val: 0 if p_val < 0.05 else 1)\n",
    "accepted[:-9]"
   ]
  },
  {
   "cell_type": "markdown",
   "metadata": {},
   "source": [
    "Let us now plot a \"heat-map\" of the $0-1$ matrix above:"
   ]
  },
  {
   "cell_type": "code",
   "execution_count": 8,
   "metadata": {
    "collapsed": false
   },
   "outputs": [
    {
     "data": {
      "image/png": "[encoded data removed]",
      "text/plain": [
       "<matplotlib.figure.Figure at 0x110125128>"
      ]
     },
     "metadata": {},
     "output_type": "display_data"
    }
   ],
   "source": [
    "fig, ax = plt.subplots()\n",
    "heatmap = ax.pcolormesh(accepted)\n",
    "\n",
    "fig = plt.gcf()\n",
    "fig.set_size_inches(8, 9)\n",
    "\n",
    "plt.ylim(0,len(accepted.index))\n",
    "ax.xaxis.tick_top()\n",
    "ax.set_yticks(np.arange(len(accepted.index)) + 0.5, minor=False)\n",
    "ax.set_yticklabels(accepted.index, minor=False)\n",
    "ax.set_xticks(np.arange(len(accepted.columns)) + 0.5, minor=False)\n",
    "ax.set_xticklabels(accepted.columns, minor=False)\n",
    "plt.ylabel('Means')\n",
    "plt.xlabel('Sample size')\n",
    "ax.grid(True)"
   ]
  },
  {
   "cell_type": "markdown",
   "metadata": {},
   "source": [
    "In the above graph, every red cell corresponds to a $t$-test of a sample with given size obtained from a normal distribution with given mean.\n",
    "\n",
    "* RED: means that the null-hypothesis cannot be rejected. That is, the obtained sample is likely to be obtained given the null-hypothesis.\n",
    "* BLUE: means that the null-hypothesis has to be rejected. That is, it is very unlikely that we witness the sample assuming $H_0$ holds.\n",
    "\n",
    "We see, that the bigger the sample is, the more accurate the test is. \n",
    "Still, starting from a sample size of 50, we already manage to reject about $2/3$ of the samples.\n",
    "It gets much better the denser the sample is."
   ]
  },
  {
   "cell_type": "markdown",
   "metadata": {},
   "source": [
    "## Links\n",
    "\n",
    "- [What a p value tells you about statistical data](http://www.dummies.com/education/math/statistics/what-a-p-value-tells-you-about-statistical-data/)\n",
    "- [SciPy Stats](https://docs.scipy.org/doc/scipy-0.18.1/reference/tutorial/stats.html)\n",
    "- [t-Test SciPy](https://docs.scipy.org/doc/scipy/reference/generated/scipy.stats.ttest_1samp.html#scipy.stats.ttest_1samp)"
   ]
  }
 ],
 "metadata": {
  "anaconda-cloud": {},
  "kernelspec": {
   "display_name": "Python [conda root]",
   "language": "python",
   "name": "conda-root-py"
  },
  "language_info": {
   "codemirror_mode": {
    "name": "ipython",
    "version": 3
   },
   "file_extension": ".py",
   "mimetype": "text/x-python",
   "name": "python",
   "nbconvert_exporter": "python",
   "pygments_lexer": "ipython3",
   "version": "3.5.2"
  }
 },
 "nbformat": 4,
 "nbformat_minor": 1
}
