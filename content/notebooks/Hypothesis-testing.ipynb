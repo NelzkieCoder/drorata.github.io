{
 "cells": [
  {
   "cell_type": "markdown",
   "metadata": {},
   "source": [
    "# Some remarks on hypothesis and A/B testing"
   ]
  },
  {
   "cell_type": "code",
   "execution_count": 33,
   "metadata": {
    "collapsed": false
   },
   "outputs": [],
   "source": [
    "%matplotlib inline\n",
    "import pylab as plt\n",
    "plt.style.use('ggplot')\n",
    "import pandas as pd\n",
    "import numpy as np\n",
    "import scipy.stats as stats"
   ]
  },
  {
   "cell_type": "markdown",
   "metadata": {},
   "source": [
    "## Before we start\n",
    "\n",
    "### Definitions\n",
    "\n",
    "**Hypothesis:** a statement about a population parameter. A population may be the users' traffic and the parameter may be conversion rate.\n",
    "\n",
    "**Objectives:** given sample taken from the population, decide whether the *null-hypothesis* ($H_0$) or the *alternative-hypothesis* ($H_1$) is true.\n",
    "\n",
    "### Example\n",
    "\n",
    "We might want to check whether the background color of a page influences the conversion rate.\n",
    "Given historical data, we know what is the conversion rate when the background is white (let it be $\\theta$).\n",
    "We now let a random half of the users engage with a green background.\n",
    "Our null-hypothesis should be that there's no influence, that is $H_0=\\theta$.\n",
    "In turn, the alternative-hypothesis is $H_1 \\neq \\theta$."
   ]
  },
  {
   "cell_type": "markdown",
   "metadata": {},
   "source": [
    "## Getting started - Measure heights\n",
    "\n",
    "We start with the assumption that the population we have has an average height of $171.5$ cm.\n",
    "The population, in this context may be anything:\n",
    "* Male geeks right after university\n",
    "* Women in a given senior house\n",
    "* Etc.\n",
    "\n",
    "We denote our *null hypothesis* as $H_0$.\n",
    "Now, we want to check whether it is true or not.\n",
    "To that end, we take a *sample* from our population and we evaluate the average height within the sample.\n",
    "We than ask the \n",
    "\n",
    "Let's set the stage, we assume that the minimal height is: $140$ cm and the maximal is $210$ cm."
   ]
  },
  {
   "cell_type": "code",
   "execution_count": 2,
   "metadata": {
    "collapsed": true
   },
   "outputs": [],
   "source": [
    "min_h = 140\n",
    "max_h = 210"
   ]
  },
  {
   "cell_type": "markdown",
   "metadata": {},
   "source": [
    "Within the above range, $171.5$ is $0.45$ with in the range.\n",
    "We'll use it as the center of the sample.\n",
    "For the standard deviation we start with 0.05.\n",
    "We can now create a sample:"
   ]
  },
  {
   "cell_type": "code",
   "execution_count": 68,
   "metadata": {
    "collapsed": false
   },
   "outputs": [],
   "source": [
    "# Let's fix the seed of the random numbers generator\n",
    "np.random.seed(10)\n",
    "\n",
    "sample = pd.Series(min_h + \n",
    "                   (max_h - min_h) * \n",
    "\n",
    "                   np.round(\n",
    "                    np.random.normal(loc=0.46, scale=0.05, size=100),\n",
    "                    decimals=4))"
   ]
  },
  {
   "cell_type": "code",
   "execution_count": 69,
   "metadata": {
    "collapsed": false
   },
   "outputs": [
    {
     "data": {
      "image/png": "[encoded data removed]",
      "text/plain": [
       "<matplotlib.figure.Figure at 0x114f88518>"
      ]
     },
     "metadata": {},
     "output_type": "display_data"
    }
   ],
   "source": [
    "sample.hist(bins=35);"
   ]
  },
  {
   "cell_type": "markdown",
   "metadata": {},
   "source": [
    "Let's set $H_0 = 171.5$; i.e. the average height equals $171.5$.\n",
    "We want to check "
   ]
  },
  {
   "cell_type": "markdown",
   "metadata": {},
   "source": [
    "But is it a mere chance? \n",
    "Imagine that the numbers were pulled from a real experiment and not from a clean distribution; is it just a coincidence?"
   ]
  },
  {
   "cell_type": "code",
   "execution_count": 70,
   "metadata": {
    "collapsed": false
   },
   "outputs": [
    {
     "data": {
      "text/plain": [
       "Ttest_1sampResult(statistic=2.8749479261409099, pvalue=0.0049471691082590098)"
      ]
     },
     "execution_count": 70,
     "metadata": {},
     "output_type": "execute_result"
    }
   ],
   "source": [
    "stats.ttest_1samp(sample, 171.5)"
   ]
  },
  {
   "cell_type": "markdown",
   "metadata": {},
   "source": [
    "## Links\n",
    "\n",
    "- [What a p value tells you about statistical data](http://www.dummies.com/education/math/statistics/what-a-p-value-tells-you-about-statistical-data/)\n",
    "- [SciPy Stats](https://docs.scipy.org/doc/scipy-0.18.1/reference/tutorial/stats.html)\n",
    "- [t-Test SciPy](https://docs.scipy.org/doc/scipy/reference/generated/scipy.stats.ttest_1samp.html#scipy.stats.ttest_1samp)"
   ]
  }
 ],
 "metadata": {
  "anaconda-cloud": {},
  "kernelspec": {
   "display_name": "Python [conda root]",
   "language": "python",
   "name": "conda-root-py"
  },
  "language_info": {
   "codemirror_mode": {
    "name": "ipython",
    "version": 3
   },
   "file_extension": ".py",
   "mimetype": "text/x-python",
   "name": "python",
   "nbconvert_exporter": "python",
   "pygments_lexer": "ipython3",
   "version": "3.5.2"
  }
 },
 "nbformat": 4,
 "nbformat_minor": 1
}
