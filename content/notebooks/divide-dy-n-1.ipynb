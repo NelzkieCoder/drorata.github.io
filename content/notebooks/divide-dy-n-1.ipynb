{
 "cells": [
  {
   "cell_type": "markdown",
   "metadata": {},
   "source": [
    "It seems to be a reappearing question: *what is the difference between [`pandas.std`](https://pandas.pydata.org/pandas-docs/stable/generated/pandas.DataFrame.std.html) and [`numpy.std`](https://docs.scipy.org/doc/numpy/reference/generated/numpy.std.html)?*.\n",
    "See for example [this](https://stackoverflow.com/q/24984178/671013) SO thread.\n",
    "But what does it mean that Pandas uses the unbiased estimator and Numpy does not?\n",
    "In this post I would like to help you understand what is the difference and when which should be used.\n",
    "I will try to achieve this by following the paper *\"Why divide by $N-1$?\"* by J. L. M. Wilkins [(link)](http://www.soe.vt.edu/tandl/pdf/Wilkins/Publications_Wilkins_Why_divide_by_n_1.pdf).\n",
    "In particular instead of using archaic software, I will redo the examples using Numpy and Pandas.\n",
    "\n",
    "## Background\n",
    "\n",
    "What is the average and the standard deviation of height of humans?\n",
    "To answer this question, let us denote by $X$ the *whole* population of humanity (at the moment); each individual would be denoted by $X_i$.\n",
    "The average (or mean), denoted by $\\mu$ can be computed by $$\\mu = \\frac{\\sum_{i=1}^N X_i}{N}$$ where $N$ is the number of individuals.\n",
    "Next, the standard deviation is given by: $$\\sigma = \\sqrt{\\frac{\\sum_{i=1}^N (X_i - \\mu)^2}{N}}$$\n",
    "Recall that the variance is given and denoted by $\\sigma^2$; we will consider the variance from now on.\n",
    "\n",
    "The task at hand is, obviously, impossible to accomplish.\n",
    "What you are likely to do is pick a sample $X_{i(1)}, X_{i(2)}, \\dots, X_{i(n)}$, where $n < N$ and $i(k)$ is a permutation.\n",
    "For the sake of simplicity, let us denote them by $X_i$ where $i=1,\\dots,n$.\n",
    "Using this sample you will compute the sample mean, denoted by $\\bar{X}$ and the sample variance.\n",
    "\n",
    "The first part, that is, the mean of the sample, is easy: $$\\bar{X} = \\frac{\\sum_{j=1}^n X_j}{n}$$\n",
    "It turns out that $\\bar{X}$ is an *unbiased* estimator of $\\mu$.\n",
    "Intuitively saying that it estimates nicely the real mean $\\mu$.\n",
    "See for example [reference](https://en.wikipedia.org/wiki/Bias_of_an_estimator#cite_note-JohnsonWichern2007-1).\n",
    "\n",
    "Things become trickier when it comes to the sample's variance, denoted by $S^2$.\n",
    "One may try to compute $S^2$ by \"generalizing\" the formula for $\\sigma^2$.\n",
    "\n",
    "This would be denoted by $S_n^2$: $$S_n^2 = \\frac{\\sum_{i=1}^n(X_i - \\bar{X})^2}{n}$$\n",
    "However, this *is* biased estimator of $\\sigma^2$.\n",
    "The unbiased estimator is $$S^2 = \\frac{\\sum_{i=1}^n(X_i - \\bar{X})^2}{n-1}$$\n",
    "\n",
    "All this is explained nicely, and in a deeper way, in various places; even [Wikipedia](https://en.wikipedia.org/wiki/Bias_of_an_estimator) is a good start.\n",
    "An intuitive explanation can be found [here](https://stats.stackexchange.com/q/3931/54320).\n",
    "In this post, I will follow the examples of Wilkins which gives a better motivation that indeed $S_n^2$ is biased and $S^2$ is not."
   ]
  },
  {
   "cell_type": "markdown",
   "metadata": {},
   "source": [
    "## Let the game begin"
   ]
  },
  {
   "cell_type": "markdown",
   "metadata": {},
   "source": [
    "Before we start, let us stress that by default, `pandas.std` is equivalent to $S^2$ and `numpy.std` to $S_n^2$."
   ]
  },
  {
   "cell_type": "code",
   "execution_count": 1,
   "metadata": {
    "collapsed": true
   },
   "outputs": [],
   "source": [
    "%matplotlib inline\n",
    "import matplotlib.pyplot as plt\n",
    "plt.style.use('ggplot')\n",
    "import numpy as np\n",
    "import pandas as pd\n",
    "\n",
    "#\n",
    "# In general tqdm is great and I strongly suggest to try it out, if you run this notebook\n",
    "# locally. However, it doesn't render well in the post generated from this notebook. So I define\n",
    "# A dummy function which does nothing. \n",
    "#\n",
    "# from tqdm import tqdm_notebook as tqdm\n",
    "def tqdm(X):\n",
    "    return X"
   ]
  },
  {
   "cell_type": "markdown",
   "metadata": {},
   "source": [
    "We start with a population $a$ consisting of the numbers $1$ to $100$ (inclusive)."
   ]
  },
  {
   "cell_type": "code",
   "execution_count": 2,
   "metadata": {
    "collapsed": true
   },
   "outputs": [],
   "source": [
    "a = np.arange(1,101)"
   ]
  },
  {
   "cell_type": "markdown",
   "metadata": {},
   "source": [
    "The mean $\\mu$ is"
   ]
  },
  {
   "cell_type": "code",
   "execution_count": 3,
   "metadata": {},
   "outputs": [
    {
     "data": {
      "text/plain": [
       "50.5"
      ]
     },
     "execution_count": 3,
     "metadata": {},
     "output_type": "execute_result"
    }
   ],
   "source": [
    "np.mean(a)"
   ]
  },
  {
   "cell_type": "markdown",
   "metadata": {},
   "source": [
    "Next, we compute $\\sigma^2$; we use the default behavior of `np.std`."
   ]
  },
  {
   "cell_type": "code",
   "execution_count": 4,
   "metadata": {},
   "outputs": [
    {
     "data": {
      "text/plain": [
       "833.25"
      ]
     },
     "execution_count": 4,
     "metadata": {},
     "output_type": "execute_result"
    }
   ],
   "source": [
    "np.std(a)**2"
   ]
  },
  {
   "cell_type": "markdown",
   "metadata": {},
   "source": [
    "We can double check that indeed Numpy delivers:"
   ]
  },
  {
   "cell_type": "code",
   "execution_count": 5,
   "metadata": {},
   "outputs": [
    {
     "data": {
      "text/plain": [
       "833.25"
      ]
     },
     "execution_count": 5,
     "metadata": {},
     "output_type": "execute_result"
    }
   ],
   "source": [
    "np.sum(np.power(a - np.mean(a), 2)) / len(a)"
   ]
  },
  {
   "cell_type": "markdown",
   "metadata": {},
   "source": [
    "By default, Pandas will fail:"
   ]
  },
  {
   "cell_type": "code",
   "execution_count": 6,
   "metadata": {},
   "outputs": [
    {
     "data": {
      "text/plain": [
       "841.66666666666663"
      ]
     },
     "execution_count": 6,
     "metadata": {},
     "output_type": "execute_result"
    }
   ],
   "source": [
    "np.power(pd.Series(a).std(), 2)"
   ]
  },
  {
   "cell_type": "markdown",
   "metadata": {},
   "source": [
    "But this can be fixed:"
   ]
  },
  {
   "cell_type": "code",
   "execution_count": 7,
   "metadata": {},
   "outputs": [
    {
     "data": {
      "text/plain": [
       "833.25"
      ]
     },
     "execution_count": 7,
     "metadata": {},
     "output_type": "execute_result"
    }
   ],
   "source": [
    "np.power(pd.Series(a).std(ddof=0), 2)"
   ]
  },
  {
   "cell_type": "markdown",
   "metadata": {},
   "source": [
    "Great, this all aligns well with the documentation and the definitions.\n",
    "In the sequence of values you have covers the *WHOLE* of the population in question, you should either use `np.std` or `pd.std(ddof=2)`."
   ]
  },
  {
   "cell_type": "markdown",
   "metadata": {},
   "source": [
    "## Sample the whole population\n",
    "\n",
    "Time to play the game.\n",
    "As we cannot have all values for all the individuals in our population, we have to use a sample.\n",
    "We will now do it for various sample sizes.\n",
    "At each step we will compute $S^2$ and $S_n^2$ and compare the results.\n",
    "We take sample sizes of $n = 5, 10, 25, 50$ and $100$.\n",
    "For each sample size, we compute $15000$ times $S^2$ and $S_n^2$.\n",
    "Lastly, we average the results for each sample size."
   ]
  },
  {
   "cell_type": "code",
   "execution_count": 8,
   "metadata": {
    "collapsed": true
   },
   "outputs": [],
   "source": [
    "SIZES = [5, 10, 25, 50, 100]\n",
    "N=15000"
   ]
  },
  {
   "cell_type": "code",
   "execution_count": 9,
   "metadata": {
    "collapsed": true
   },
   "outputs": [],
   "source": [
    "Sn_s = []\n",
    "for SIZE in tqdm(SIZES):\n",
    "    size_res = []\n",
    "    for i in tqdm(range(N)):\n",
    "        size_res.append(np.std(np.random.choice(a, size=SIZE))**2)\n",
    "    Sn_s.append(np.sum(np.array(size_res)) / N)\n",
    "Sn_s = pd.Series(Sn_s, index=SIZES)"
   ]
  },
  {
   "cell_type": "code",
   "execution_count": 10,
   "metadata": {
    "collapsed": true
   },
   "outputs": [],
   "source": [
    "S_s = []\n",
    "for SIZE in tqdm(SIZES):\n",
    "    size_res = []\n",
    "    for i in tqdm(range(N)):\n",
    "        size_res.append(np.std(np.random.choice(a, size=SIZE), ddof=1)**2)\n",
    "    S_s.append(np.sum(np.array(size_res)) / N)\n",
    "\n",
    "S_s = pd.Series(S_s, index=SIZES)"
   ]
  },
  {
   "cell_type": "markdown",
   "metadata": {},
   "source": [
    "Let's collect the results into a table."
   ]
  },
  {
   "cell_type": "code",
   "execution_count": 11,
   "metadata": {},
   "outputs": [
    {
     "data": {
      "text/html": [
       "<div>\n",
       "<style>\n",
       "    .dataframe thead tr:only-child th {\n",
       "        text-align: right;\n",
       "    }\n",
       "\n",
       "    .dataframe thead th {\n",
       "        text-align: left;\n",
       "    }\n",
       "\n",
       "    .dataframe tbody tr th {\n",
       "        vertical-align: top;\n",
       "    }\n",
       "</style>\n",
       "<table border=\"1\" class=\"dataframe\">\n",
       "  <thead>\n",
       "    <tr style=\"text-align: right;\">\n",
       "      <th></th>\n",
       "      <th>S_n^2</th>\n",
       "      <th>S^2</th>\n",
       "      <th>sigma^2</th>\n",
       "    </tr>\n",
       "  </thead>\n",
       "  <tbody>\n",
       "    <tr>\n",
       "      <th>5</th>\n",
       "      <td>665.030288</td>\n",
       "      <td>837.021747</td>\n",
       "      <td>833.25</td>\n",
       "    </tr>\n",
       "    <tr>\n",
       "      <th>10</th>\n",
       "      <td>748.445851</td>\n",
       "      <td>836.054854</td>\n",
       "      <td>833.25</td>\n",
       "    </tr>\n",
       "    <tr>\n",
       "      <th>25</th>\n",
       "      <td>800.563841</td>\n",
       "      <td>832.693469</td>\n",
       "      <td>833.25</td>\n",
       "    </tr>\n",
       "    <tr>\n",
       "      <th>50</th>\n",
       "      <td>816.226962</td>\n",
       "      <td>830.447212</td>\n",
       "      <td>833.25</td>\n",
       "    </tr>\n",
       "    <tr>\n",
       "      <th>100</th>\n",
       "      <td>825.145818</td>\n",
       "      <td>833.501119</td>\n",
       "      <td>833.25</td>\n",
       "    </tr>\n",
       "  </tbody>\n",
       "</table>\n",
       "</div>"
      ],
      "text/plain": [
       "          S_n^2         S^2  sigma^2\n",
       "5    665.030288  837.021747   833.25\n",
       "10   748.445851  836.054854   833.25\n",
       "25   800.563841  832.693469   833.25\n",
       "50   816.226962  830.447212   833.25\n",
       "100  825.145818  833.501119   833.25"
      ]
     },
     "execution_count": 11,
     "metadata": {},
     "output_type": "execute_result"
    }
   ],
   "source": [
    "res_df = pd.concat([Sn_s, S_s], axis=1, keys=['S_n^2', 'S^2'])\n",
    "res_df['sigma^2'] = pd.Series(np.std(a) ** 2 * np.ones(res_df.shape[0]), index=res_df.index)\n",
    "res_df"
   ]
  },
  {
   "cell_type": "code",
   "execution_count": 12,
   "metadata": {},
   "outputs": [
    {
     "data": {
      "image/png": "[encoded data removed]",
      "text/plain": [
       "<matplotlib.figure.Figure at 0x10ed2a6a0>"
      ]
     },
     "metadata": {},
     "output_type": "display_data"
    }
   ],
   "source": [
    "res_df.plot(figsize=(20,5), marker='o')\n",
    "plt.xticks(res_df.index);"
   ]
  },
  {
   "cell_type": "markdown",
   "metadata": {},
   "source": [
    "Recall that $\\sigma^2 = 833.25$.\n",
    "It is clear that the $n-1$ normalization yields better approximation of the variance of the population.\n",
    "This approximation is already fairly accurate when using mere $5\\%$ of the population as a sample.\n",
    "\n",
    "## Summary\n",
    "\n",
    "So, if you know that the series of values that you have represents *ALL* members of your population, you should go ahead and use $\\sigma^2$ (using either `np.std` or `pandas.std(ddof=0)`).\n",
    "If however, your series of values is merely a sample of a bigger population, then you should use the unbiased estimator of $\\sigma^2$, denoted by $S^2$ and computed by either `np.std(ddof=1)` or `pandas.std`.\n",
    "\n",
    "## An experiment\n",
    "\n",
    "As a mathematician, I now ask myself how would estimators with different $n$ would behave.\n",
    "Let $$D_n^2 = \\frac{\\sum_{i=1}^n(X_i - \\bar{X})^2}{n}$$\n",
    "In particular, $D_n^2 = S_n^2$ and $D_{n-1}^2 = S^2$."
   ]
  },
  {
   "cell_type": "code",
   "execution_count": 13,
   "metadata": {
    "collapsed": true,
    "scrolled": true
   },
   "outputs": [],
   "source": [
    "res = []\n",
    "for n in tqdm(np.arange(-4,5)):\n",
    "    Dn_s = []\n",
    "    for SIZE in tqdm(SIZES):\n",
    "        size_res = []\n",
    "        for i in tqdm(range(N)):\n",
    "            size_res.append(np.std(np.random.choice(a, size=SIZE), ddof=n)**2)\n",
    "        Dn_s.append(np.sum(np.array(size_res)) / N)\n",
    "    Dn_s = pd.Series(Dn_s, index=SIZES, name=str(n))\n",
    "    res.append(Dn_s)"
   ]
  },
  {
   "cell_type": "code",
   "execution_count": 14,
   "metadata": {},
   "outputs": [
    {
     "data": {
      "image/png": "[encoded data removed]",
      "text/plain": [
       "<matplotlib.figure.Figure at 0x11205a2b0>"
      ]
     },
     "metadata": {},
     "output_type": "display_data"
    }
   ],
   "source": [
    "df_res = pd.DataFrame(res).T\n",
    "df_res.plot(logy=True, figsize=(20,5))\n",
    "plt.xticks(df_res.index);"
   ]
  }
 ],
 "metadata": {
  "kernelspec": {
   "display_name": "Python [conda root]",
   "language": "python",
   "name": "conda-root-py"
  },
  "language_info": {
   "codemirror_mode": {
    "name": "ipython",
    "version": 3
   },
   "file_extension": ".py",
   "mimetype": "text/x-python",
   "name": "python",
   "nbconvert_exporter": "python",
   "pygments_lexer": "ipython3",
   "version": "3.6.2"
  }
 },
 "nbformat": 4,
 "nbformat_minor": 2
}
