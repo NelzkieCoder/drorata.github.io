{
 "cells": [
  {
   "cell_type": "code",
   "execution_count": 1,
   "metadata": {
    "collapsed": false
   },
   "outputs": [],
   "source": [
    "import numpy as np\n",
    "from sklearn import linear_model\n",
    "import matplotlib.pyplot as plt\n",
    "%matplotlib inline\n",
    "plt.rcParams['figure.figsize'] = (16.0, 5.0)\n",
    "plt.style.use('ggplot')"
   ]
  },
  {
   "cell_type": "markdown",
   "metadata": {},
   "source": [
    "This is a rather straightforward example of how to train a linear regression model in a 2D case.\n",
    "$X$ is a vector with the independent variables and $Y$ with the dependent ones.\n",
    "In this particular example we synthetically generate points on a linear function while adding noise."
   ]
  },
  {
   "cell_type": "code",
   "execution_count": 2,
   "metadata": {
    "collapsed": false
   },
   "outputs": [
    {
     "data": {
      "text/plain": [
       "array([ 0.        ,  0.20408163,  0.40816327])"
      ]
     },
     "execution_count": 2,
     "metadata": {},
     "output_type": "execute_result"
    }
   ],
   "source": [
    "X = np.linspace(0,10,50)\n",
    "X[:3] # sample of X"
   ]
  },
  {
   "cell_type": "code",
   "execution_count": 3,
   "metadata": {
    "collapsed": false
   },
   "outputs": [
    {
     "data": {
      "text/plain": [
       "array([-0.37637964,  1.55622455,  1.10414509])"
      ]
     },
     "execution_count": 3,
     "metadata": {},
     "output_type": "execute_result"
    }
   ],
   "source": [
    "np.random.seed(42)\n",
    "noise = 1.5*(2*np.random.random(len(X)) - 1)\n",
    "Y = (X + noise)\n",
    "Y[:3] # sample of Y"
   ]
  },
  {
   "cell_type": "markdown",
   "metadata": {},
   "source": [
    "We start an instance of a [linear regression](http://scikit-learn.org/stable/modules/generated/sklearn.linear_model.LinearRegression.html) model."
   ]
  },
  {
   "cell_type": "code",
   "execution_count": 4,
   "metadata": {
    "collapsed": true
   },
   "outputs": [],
   "source": [
    "regr = linear_model.LinearRegression()"
   ]
  },
  {
   "cell_type": "markdown",
   "metadata": {},
   "source": [
    "We train it on the synthetic data."
   ]
  },
  {
   "cell_type": "code",
   "execution_count": 5,
   "metadata": {
    "collapsed": false
   },
   "outputs": [
    {
     "data": {
      "text/plain": [
       "LinearRegression(copy_X=True, fit_intercept=True, n_jobs=1, normalize=False)"
      ]
     },
     "execution_count": 5,
     "metadata": {},
     "output_type": "execute_result"
    }
   ],
   "source": [
    "regr.fit(X.reshape(-1,1),Y)"
   ]
  },
  {
   "cell_type": "markdown",
   "metadata": {},
   "source": [
    "The `reshape` above is there due to a warning/error you might be seeing if omitted.\n",
    "\n",
    "Once trained, the model can be used to predict the values of the points we started with in $X$.\n",
    "Note, as we are dealing with a linear model, there is no way of ending up with [over-fitting model](https://en.wikipedia.org/wiki/Overfitting)."
   ]
  },
  {
   "cell_type": "code",
   "execution_count": 6,
   "metadata": {
    "collapsed": false
   },
   "outputs": [],
   "source": [
    "Y_pred = regr.predict(X.reshape(-1,1))"
   ]
  },
  {
   "cell_type": "code",
   "execution_count": 7,
   "metadata": {
    "collapsed": false
   },
   "outputs": [
    {
     "data": {
      "image/png": "[encoded data removed]",
      "text/plain": [
       "<matplotlib.figure.Figure at 0x10c917780>"
      ]
     },
     "metadata": {},
     "output_type": "display_data"
    }
   ],
   "source": [
    "plt.plot(\n",
    "    X,Y,'*', # Data\n",
    "    X, Y_pred,'-o' # Regression\n",
    ")\n",
    "plt.legend(['Data','Regression'])\n",
    "plt.title('Input vs. Regression');"
   ]
  },
  {
   "cell_type": "markdown",
   "metadata": {},
   "source": [
    "Let's look into the result.\n",
    "The linear function to which we added noise was $y=ax + b$ where the coefficient $a = 1$ and the intercept $b=0$.\n",
    "We can compute $a$ and $b$ of the trained model.\n",
    "$a$, a.k.a. the slope, is directly computed by:"
   ]
  },
  {
   "cell_type": "code",
   "execution_count": 8,
   "metadata": {
    "collapsed": false
   },
   "outputs": [
    {
     "data": {
      "text/plain": [
       "0.98216273101406792"
      ]
     },
     "execution_count": 8,
     "metadata": {},
     "output_type": "execute_result"
    }
   ],
   "source": [
    "(Y_pred[10] - Y_pred[9])/(X[10] - X[9])"
   ]
  },
  {
   "cell_type": "markdown",
   "metadata": {},
   "source": [
    "It is actually an attribute of the model:"
   ]
  },
  {
   "cell_type": "code",
   "execution_count": 9,
   "metadata": {
    "collapsed": false
   },
   "outputs": [
    {
     "data": {
      "text/plain": [
       "array([ 0.98216273])"
      ]
     },
     "execution_count": 9,
     "metadata": {},
     "output_type": "execute_result"
    }
   ],
   "source": [
    "regr.coef_"
   ]
  },
  {
   "cell_type": "markdown",
   "metadata": {},
   "source": [
    "Similarly, the intercept is merely the value of the model for $X=0$:"
   ]
  },
  {
   "cell_type": "code",
   "execution_count": 10,
   "metadata": {
    "collapsed": false
   },
   "outputs": [
    {
     "data": {
      "text/plain": [
       "-0.073041941893555951"
      ]
     },
     "execution_count": 10,
     "metadata": {},
     "output_type": "execute_result"
    }
   ],
   "source": [
    "Y_pred[0]"
   ]
  },
  {
   "cell_type": "markdown",
   "metadata": {},
   "source": [
    "And again, this is an attribute of the model:"
   ]
  },
  {
   "cell_type": "code",
   "execution_count": 11,
   "metadata": {
    "collapsed": false
   },
   "outputs": [
    {
     "data": {
      "text/plain": [
       "-0.073041941893555951"
      ]
     },
     "execution_count": 11,
     "metadata": {},
     "output_type": "execute_result"
    }
   ],
   "source": [
    "regr.intercept_"
   ]
  },
  {
   "cell_type": "markdown",
   "metadata": {},
   "source": [
    "In the example so far, the noise was uniformly distributed in the $[-1.5,1.5)$ interval.\n",
    "Next, we'd like to check the relation between the radius ($1.5$ in this case) of the noise and the coefficient/intercept of the model."
   ]
  },
  {
   "cell_type": "code",
   "execution_count": 12,
   "metadata": {
    "collapsed": true
   },
   "outputs": [],
   "source": [
    "def gen_data(size=30, noise_radius=1.5, seed=42):\n",
    "    X = np.linspace(0,10,size)\n",
    "    np.random.seed(seed)\n",
    "    noise = noise_radius*(2*np.random.random(len(X)) - 1)\n",
    "    Y = (X + noise)\n",
    "    return X, Y\n",
    "\n",
    "def train_predict(X, Y):\n",
    "    regr = linear_model.LinearRegression()\n",
    "    regr.fit(X.reshape(-1,1),Y)\n",
    "    Y_pred = regr.predict(X.reshape(-1,1))\n",
    "    return regr, Y_pred"
   ]
  },
  {
   "cell_type": "markdown",
   "metadata": {},
   "source": [
    "Next we are going to generate synthetic data sets with growing noise radius.\n",
    "In each iterations, we will register the coefficient and the intercept of the trained model."
   ]
  },
  {
   "cell_type": "code",
   "execution_count": 13,
   "metadata": {
    "collapsed": true
   },
   "outputs": [],
   "source": [
    "coeff = []\n",
    "inter = []\n",
    "rads = np.linspace(0,50,1000)\n",
    "for rad in rads:\n",
    "    X, Y = gen_data(noise_radius=rad)\n",
    "    regr, Y_pred = train_predict(X,Y)\n",
    "    coeff.append(regr.coef_)\n",
    "    inter.append(regr.intercept_)"
   ]
  },
  {
   "cell_type": "markdown",
   "metadata": {},
   "source": [
    "Let's have a look at the behavior of the error between the coefficients and intercepts that we witness and the real ones we used for the generation of the data."
   ]
  },
  {
   "cell_type": "code",
   "execution_count": 14,
   "metadata": {
    "collapsed": false
   },
   "outputs": [
    {
     "data": {
      "image/png": "[encoded data removed]",
      "text/plain": [
       "<matplotlib.figure.Figure at 0x10c9a35f8>"
      ]
     },
     "metadata": {},
     "output_type": "display_data"
    }
   ],
   "source": [
    "plt.plot(\n",
    "    rads,np.abs(np.add(-1,coeff)), # we know that the slope we use equals 1\n",
    "    rads,np.abs(inter)\n",
    ")\n",
    "plt.title('Error in Coeffieicents and intercepts vs. Noise radius')\n",
    "plt.legend(['Coefficient error', 'Intercept error']);"
   ]
  },
  {
   "cell_type": "markdown",
   "metadata": {},
   "source": [
    "The above image suggest that the error of both the coefficient and the intercept linearly depend on the noise radius."
   ]
  },
  {
   "cell_type": "markdown",
   "metadata": {},
   "source": [
    "Formally, the we have samples from a linear function $$y = x + \\epsilon$$ where $\\epsilon$ is uniform noise.\n",
    "For each $x_i \\in X$ we have a corresponding value $y_i \\in Y$.\n",
    "Our objective is to find $a$ and $b$ such that $y \\sim ax +b$.\n",
    "We do so by minimizing the $L_2$ error $$E(a,b) = \\sum_{i=1}^n (y_i - (ax_i+b))^2$$ as a function of $a$ and $b$.\n",
    "We take partial derivatives and find the minimum:\n",
    "$$\n",
    "\\left\\{ \n",
    "\\begin{array}{c}\n",
    "\\frac{\\partial E}{\\partial a} = 0 \\\\ \n",
    "\\frac{\\partial E}{\\partial b} = 0 \n",
    "\\end{array}\n",
    "\\right. \n",
    "$$\n",
    "This turns to be:\n",
    "$$\n",
    "\\left\\{ \n",
    "\\begin{array}{c}\n",
    "\\sum (y_i - (ax_i +b))x_i = 0 \\\\ \n",
    "\\sum (y_i - (ax_i +b)) = 0 \n",
    "\\end{array}\n",
    "\\right. \n",
    "$$\n",
    "\n",
    "From this, we can have a closed formula for $a$ and $b$:\n",
    "$$\n",
    "\\left\\{ \n",
    "\\begin{array}{c}\n",
    "a = \\frac{X \\cdot Y - n \\bar{X}\\bar{Y}}{X \\cdot X - n \\bar{X}^2} \\\\ \n",
    "b = \\bar{Y} - a \\bar{X} \n",
    "\\end{array}\n",
    "\\right. \n",
    "$$\n",
    "Here, $\\bar{X}$ and $\\bar{Y}$ denote the mean of $X$ and $Y$, respectively.\n",
    "Furthermore, $n$ is the number of sample points.\n",
    "We can now check the closed formulas, and compare them to the coefficient and intercept of the model we tarined:"
   ]
  },
  {
   "cell_type": "code",
   "execution_count": 15,
   "metadata": {
    "collapsed": false
   },
   "outputs": [
    {
     "data": {
      "text/plain": [
       "-0.8010271422548586"
      ]
     },
     "execution_count": 15,
     "metadata": {},
     "output_type": "execute_result"
    }
   ],
   "source": [
    "(np.dot(X,Y)/(len(Y)) - X.mean()*Y.mean())/\\\n",
    "(np.dot(X,X)/len(X) - np.power(X.mean(),2))"
   ]
  },
  {
   "cell_type": "markdown",
   "metadata": {},
   "source": [
    "vs."
   ]
  },
  {
   "cell_type": "code",
   "execution_count": 16,
   "metadata": {
    "collapsed": false
   },
   "outputs": [
    {
     "data": {
      "text/plain": [
       "array([-0.80102714])"
      ]
     },
     "execution_count": 16,
     "metadata": {},
     "output_type": "execute_result"
    }
   ],
   "source": [
    "regr.coef_"
   ]
  },
  {
   "cell_type": "markdown",
   "metadata": {},
   "source": [
    "And:"
   ]
  },
  {
   "cell_type": "code",
   "execution_count": 17,
   "metadata": {
    "collapsed": false
   },
   "outputs": [
    {
     "data": {
      "text/plain": [
       "2.8648629210179717"
      ]
     },
     "execution_count": 17,
     "metadata": {},
     "output_type": "execute_result"
    }
   ],
   "source": [
    "Y.mean() - X.mean()* \\\n",
    "(np.dot(X,Y)/(len(Y)) - X.mean()*Y.mean())/\\\n",
    "(np.dot(X,X)/len(X) - np.power(X.mean(),2))"
   ]
  },
  {
   "cell_type": "markdown",
   "metadata": {},
   "source": [
    "vs."
   ]
  },
  {
   "cell_type": "code",
   "execution_count": 18,
   "metadata": {
    "collapsed": false
   },
   "outputs": [
    {
     "data": {
      "text/plain": [
       "2.864862921017969"
      ]
     },
     "execution_count": 18,
     "metadata": {},
     "output_type": "execute_result"
    }
   ],
   "source": [
    "regr.intercept_"
   ]
  },
  {
   "cell_type": "markdown",
   "metadata": {},
   "source": [
    "Lastly, the closed formulas above provide good intuition why the error of the model grows linearly.\n",
    "In the future I will explain this in details."
   ]
  }
 ],
 "metadata": {
  "kernelspec": {
   "display_name": "Python [conda root]",
   "language": "python",
   "name": "conda-root-py"
  },
  "language_info": {
   "codemirror_mode": {
    "name": "ipython",
    "version": 3
   },
   "file_extension": ".py",
   "mimetype": "text/x-python",
   "name": "python",
   "nbconvert_exporter": "python",
   "pygments_lexer": "ipython3",
   "version": "3.5.2"
  }
 },
 "nbformat": 4,
 "nbformat_minor": 2
}
