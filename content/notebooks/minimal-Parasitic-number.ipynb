{
 "cells": [
  {
   "cell_type": "markdown",
   "metadata": {},
   "source": [
    "# Minimal parasitic number\n",
    "\n",
    "One of the things I like so much about math is that you always get to know a new concept.\n",
    "Recently, I learned about [parasitic numbers](https://en.wikipedia.org/wiki/Parasitic_number).\n",
    "I was asked what is the minimal parasitic 4-number.\n",
    "So, I wrote down the following simple code, and found out:"
   ]
  },
  {
   "cell_type": "code",
   "execution_count": 1,
   "metadata": {
    "collapsed": true
   },
   "outputs": [],
   "source": [
    "def new_num(n):\n",
    "    n_str = str(n)\n",
    "    res = n_str[-1:] + n_str[:-1]\n",
    "    return int(res)"
   ]
  },
  {
   "cell_type": "code",
   "execution_count": 2,
   "metadata": {
    "collapsed": false
   },
   "outputs": [],
   "source": [
    "def is_num(n, k):\n",
    "    new_n = new_num(n)\n",
    "    if new_n == k * n:\n",
    "        return True\n",
    "    else:\n",
    "        return False"
   ]
  },
  {
   "cell_type": "code",
   "execution_count": 3,
   "metadata": {
    "collapsed": false
   },
   "outputs": [
    {
     "name": "stdout",
     "output_type": "stream",
     "text": [
      "0\n",
      "102564\n",
      "128205\n",
      "153846\n",
      "179487\n",
      "205128\n",
      "230769\n"
     ]
    }
   ],
   "source": [
    "for i in range(1000000):\n",
    "    if is_num(i,4):\n",
    "        print(i)"
   ]
  }
 ],
 "metadata": {
  "kernelspec": {
   "display_name": "Python [conda root]",
   "language": "python",
   "name": "conda-root-py"
  },
  "language_info": {
   "codemirror_mode": {
    "name": "ipython",
    "version": 3
   },
   "file_extension": ".py",
   "mimetype": "text/x-python",
   "name": "python",
   "nbconvert_exporter": "python",
   "pygments_lexer": "ipython3",
   "version": "3.5.2"
  }
 },
 "nbformat": 4,
 "nbformat_minor": 2
}
